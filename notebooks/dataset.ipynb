{
 "cells": [
  {
   "cell_type": "code",
   "execution_count": null,
   "metadata": {},
   "outputs": [],
   "source": [
    "import numpy as np\n",
    "import pandas as pd\n",
    "import sys\n",
    "import matplotlib.pyplot as plt\n",
    "import os\n",
    "import numpy as np\n",
    "sys.path.append('..')\n",
    "from load_data import load_data, Dataset\n",
    "from config import xvertseg_dir, verse2019_dir, resolution, patch_size"
   ]
  },
  {
   "cell_type": "code",
   "execution_count": null,
   "metadata": {},
   "outputs": [],
   "source": [
    "# load data from corresponding data dir\n",
    "xvertseg_imgs, xvertseg_msks, xvertseg_scores = load_data(xvertseg_dir, resolution)\n",
    "verse2019_imgs, verse2019_msks, verse2019_scores = load_data(verse2019_dir, resolution)"
   ]
  },
  {
   "cell_type": "code",
   "execution_count": null,
   "metadata": {},
   "outputs": [],
   "source": [
    "# stack data sets together\n",
    "imgs = np.concatenate((xvertseg_imgs, verse2019_imgs))\n",
    "msks = np.concatenate((xvertseg_msks, verse2019_msks))\n",
    "scores = xvertseg_scores.append(verse2019_scores)\n",
    "\n",
    "display(scores)"
   ]
  },
  {
   "cell_type": "code",
   "execution_count": null,
   "metadata": {},
   "outputs": [],
   "source": [
    "# make a dataset\n",
    "np_scores = scores.to_numpy()\n",
    "full_dataset = Dataset(np_scores, imgs, msks, patch_size)"
   ]
  },
  {
   "cell_type": "markdown",
   "metadata": {},
   "source": [
    "### Statistics about this dataset\n",
    "Things like:\n",
    "* distribution of vertebra type\n",
    "* the frequency of fractures (distribution when we have different cases and grades)"
   ]
  },
  {
   "cell_type": "code",
   "execution_count": null,
   "metadata": {},
   "outputs": [],
   "source": [
    "patches = full_dataset.get_patches()\n",
    "sources = full_dataset.get_sources()\n",
    "ids = full_dataset.get_ids()\n",
    "vertebrae = full_dataset.get_vertebrae()\n",
    "fractured = full_dataset.get_scores()"
   ]
  },
  {
   "cell_type": "code",
   "execution_count": null,
   "metadata": {},
   "outputs": [],
   "source": [
    "# for plotting\n",
    "vert_names = np.asarray(['T{}'.format(i) for i in range(1, 13)] + ['L{}'.format(i) for i in range(1, 7)])"
   ]
  },
  {
   "cell_type": "code",
   "execution_count": null,
   "metadata": {},
   "outputs": [],
   "source": [
    "ind_xvert = np.argwhere(sources == 'xvertseg')\n",
    "ind_verse = np.argwhere(sources == 'verse2019')\n",
    "ind_fractured = np.argwhere(fractured)\n",
    "\n",
    "# fractured counts\n",
    "_, counts_xvert_frac = np.unique(vertebrae[np.intersect1d(ind_xvert, ind_fractured)], return_counts=True)\n",
    "_, counts_verse_frac = np.unique(vertebrae[np.intersect1d(ind_verse, ind_fractured)], return_counts=True)\n",
    "_, counts_both_frac = np.unique(vertebrae[ind_fractured], return_counts=True)\n",
    "\n",
    "# all counts fractured counts\n",
    "labels_xvert, counts_xvert = np.unique(vertebrae[ind_xvert], return_counts=True)\n",
    "labels_verse, counts_verse = np.unique(vertebrae[ind_verse], return_counts=True)\n",
    "labels_both, counts_both = np.unique(vertebrae, return_counts=True)\n",
    "\n",
    "# hack but ok\n",
    "counts_verse_frac = np.append(counts_verse_frac, [0])\n",
    "counts_both_frac = np.append(counts_both_frac, [0])\n",
    "\n",
    "counts_xvert_non_frac = counts_xvert - counts_xvert_frac\n",
    "counts_verse_non_frac = counts_verse - counts_verse_frac\n",
    "counts_both_non_frac = counts_both - counts_both_frac\n",
    "\n",
    "plt.figure(figsize=(30, 6))\n",
    "plt.subplot(1, 3, 1)\n",
    "plt.bar(labels_xvert, counts_xvert_frac, align='center', label='Fractured')\n",
    "plt.bar(labels_xvert, counts_xvert_non_frac, align='center', label='Healthy', bottom=counts_xvert_frac)\n",
    "plt.title('Histogram: type of vertebrae in xVertSeg')\n",
    "plt.ylabel('Nr of occurences')\n",
    "plt.legend()\n",
    "plt.gca().set_xticks(labels_xvert)\n",
    "plt.gca().set_xticklabels(vert_names[-6:-1])\n",
    "plt.gca().set_ylim((0, 100))\n",
    "plt.subplot(1, 3, 2)\n",
    "plt.bar(labels_verse, counts_verse_frac, align='center', label='Fractured')\n",
    "plt.bar(labels_verse, counts_verse_non_frac, align='center', label='Healthy', bottom=counts_verse_frac)\n",
    "plt.title('Histogram: type of vertebrae in Verse2019')\n",
    "plt.ylabel('Nr of occurences')\n",
    "plt.legend()\n",
    "plt.gca().set_xticks(labels_both)\n",
    "plt.gca().set_xticklabels(vert_names)\n",
    "plt.gca().set_ylim((0, 100))\n",
    "plt.subplot(1, 3, 3)\n",
    "plt.bar(labels_both, counts_both_frac, align='center', label='Fractured')\n",
    "plt.bar(labels_both, counts_both_non_frac, align='center', label='Healthy', bottom=counts_both_frac)\n",
    "plt.title('Histogram: type of vertebrae in both')\n",
    "plt.ylabel('Nr of occurences')\n",
    "plt.legend()\n",
    "plt.gca().set_xticks(labels_both)\n",
    "plt.gca().set_xticklabels(vert_names)\n",
    "plt.gca().set_ylim((0, 100))\n",
    "plt.plot\n",
    "plt.show()"
   ]
  },
  {
   "cell_type": "markdown",
   "metadata": {},
   "source": [
    "## Sanity check: plot some patches in the set"
   ]
  },
  {
   "cell_type": "code",
   "execution_count": null,
   "metadata": {},
   "outputs": [],
   "source": [
    "plt.figure(figsize=(20, 20))\n",
    "\n",
    "for n in range(25):\n",
    "    i = np.random.randint(full_dataset.__len__())\n",
    "\n",
    "    patch = patches[i]\n",
    "    source = sources[i]\n",
    "    ID =  ids[i]\n",
    "    vertebra = vertebrae[i]\n",
    "    frac = fractured[i]\n",
    "\n",
    "    img, msk = patch[0], patch[1]\n",
    "    plt_msk = np.ma.masked_where(msk == 0, msk)              \n",
    "    mid_slice = img.shape[0] // 2 \n",
    "    ind_label = vertebra - 8\n",
    "\n",
    "    plt.subplot(5, 5, n + 1)\n",
    "    plt.imshow(img[mid_slice, :, :], cmap='gray')\n",
    "    plt.imshow(plt_msk[mid_slice, :, :], alpha=0.3, vmin=8, vmax=25)\n",
    "    description = '{} ID: {} \\n vert {} with label {} '.format(source, ID, vert_names[ind_label], vertebra)\n",
    "    description += 'fractured' if frac else 'healthy'\n",
    "    plt.title(description)\n",
    "\n",
    "plt.tight_layout()\n",
    "plt.show()"
   ]
  }
 ],
 "metadata": {
  "kernelspec": {
   "display_name": "Python 3",
   "language": "python",
   "name": "python3"
  },
  "language_info": {
   "codemirror_mode": {
    "name": "ipython",
    "version": 3
   },
   "file_extension": ".py",
   "mimetype": "text/x-python",
   "name": "python",
   "nbconvert_exporter": "python",
   "pygments_lexer": "ipython3",
   "version": "3.8.7"
  }
 },
 "nbformat": 4,
 "nbformat_minor": 4
}
