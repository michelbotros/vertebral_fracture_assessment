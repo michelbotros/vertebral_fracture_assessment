{
 "cells": [
  {
   "cell_type": "code",
   "execution_count": 1,
   "metadata": {},
   "outputs": [],
   "source": [
    "import numpy as np\n",
    "import pandas as pd\n",
    "import sys\n",
    "import matplotlib.pyplot as plt\n",
    "sys.path.append('..')\n",
    "from load_data import load_data, Dataset\n",
    "from config import xvertseg_dir, verse2019_dir, resolution, patch_size"
   ]
  },
  {
   "cell_type": "code",
   "execution_count": 2,
   "metadata": {},
   "outputs": [
    {
     "name": "stderr",
     "output_type": "stream",
     "text": [
      "  0%|          | 0/15 [00:00<?, ?it/s]"
     ]
    },
    {
     "name": "stdout",
     "output_type": "stream",
     "text": [
      "Loading masks from /mnt/netcache/bodyct/experiments/vertebra_fracture_detection_t9560/datasets/xvertseg/...\n"
     ]
    },
    {
     "name": "stderr",
     "output_type": "stream",
     "text": [
      "100%|██████████| 15/15 [01:14<00:00,  4.95s/it]\n",
      "  0%|          | 0/70 [00:00<?, ?it/s]"
     ]
    },
    {
     "name": "stdout",
     "output_type": "stream",
     "text": [
      "Loading masks from /mnt/netcache/bodyct/experiments/vertebra_fracture_detection_t9560/datasets/verse2019/...\n"
     ]
    },
    {
     "name": "stderr",
     "output_type": "stream",
     "text": [
      "100%|██████████| 70/70 [00:49<00:00,  1.41it/s]\n"
     ]
    }
   ],
   "source": [
    "# load data from corresponding data dir\n",
    "xvertseg_msks, xvertseg_scores = load_data(xvertseg_dir, resolution)\n",
    "verse2019_msks, verse2019_scores = load_data(verse2019_dir, resolution)"
   ]
  },
  {
   "cell_type": "code",
   "execution_count": 3,
   "metadata": {},
   "outputs": [],
   "source": [
    "# stack data sets together\n",
    "msks = np.concatenate((xvertseg_msks, verse2019_msks))\n",
    "scores = xvertseg_scores.append(verse2019_scores)"
   ]
  },
  {
   "cell_type": "code",
   "execution_count": 4,
   "metadata": {},
   "outputs": [],
   "source": [
    "# get the valid scores xvert\n",
    "xvert_scores = xvertseg_scores.to_numpy()[:, 2:].astype(float).reshape(15 * 18, 2)\n",
    "xvert_scores_valid = xvert_scores[~np.isnan(xvert_scores).any(axis=1)]\n",
    "\n",
    "# get the valid scores in verse\n",
    "verse_scores = verse2019_scores.to_numpy()[:, 2:].astype(float).reshape(80 * 18, 2)\n",
    "verse_scores_valid = verse_scores[~np.isnan(verse_scores).any(axis=1)]\n",
    "\n",
    "# valid scores in the complete set (xvert + verse)\n",
    "total_scores = scores.to_numpy()[:, 2:].astype(float).reshape(95 * 18, 2)\n",
    "scores_valid = total_scores[~np.isnan(total_scores).any(axis=1)]\n",
    "\n",
    "# count the unique scores in the valid ones\n",
    "unique_xvers, counts_xvert = np.unique(xvert_scores_valid, return_counts=True, axis=0)\n",
    "unique_verse, counts_verse = np.unique(verse_scores_valid, return_counts=True, axis=0)\n",
    "unique_scores, counts_scores = np.unique(scores_valid, return_counts=True, axis=0)"
   ]
  },
  {
   "cell_type": "code",
   "execution_count": 5,
   "metadata": {},
   "outputs": [
    {
     "name": "stdout",
     "output_type": "stream",
     "text": [
      "75 annotated vertebra in xVertSeg score sheet.\n",
      "733 annotated vertebra in verse score sheet.\n",
      "808 annotated vertebra in total in score sheets.\n"
     ]
    }
   ],
   "source": [
    "print('{} annotated vertebra in xVertSeg score sheet.'.format(sum(counts_xvert)))\n",
    "print('{} annotated vertebra in verse score sheet.'.format(sum(counts_verse)))\n",
    "print('{} annotated vertebra in total in score sheets.'.format(sum(counts_scores)))"
   ]
  },
  {
   "cell_type": "code",
   "execution_count": 6,
   "metadata": {},
   "outputs": [
    {
     "name": "stdout",
     "output_type": "stream",
     "text": [
      "Did not find label 8 in the mask as well. Case: verse2019 43\n",
      "Did not find label 8 in the mask as well. Case: verse2019 64\n",
      "Did not find label 8 in the mask as well. Case: verse2019 253\n",
      "Did not find label 9 in the mask as well. Case: verse2019 253\n",
      "Found a total of 650 in this set\n"
     ]
    }
   ],
   "source": [
    "# make a dataset\n",
    "np_scores = scores.to_numpy()\n",
    "full_dataset = Dataset(np_scores, msks, patch_size)"
   ]
  },
  {
   "cell_type": "markdown",
   "metadata": {},
   "source": [
    "### Statistics about this dataset\n",
    "Things like:\n",
    "* distribution of vertebra type\n",
    "* the frequency of fractures (distribution when we have different cases and grades)"
   ]
  },
  {
   "cell_type": "code",
   "execution_count": 7,
   "metadata": {},
   "outputs": [],
   "source": [
    "vert_names = np.asarray(['T{}'.format(i) for i in range(1, 13)] + ['L{}'.format(i) for i in range(1, 7)])"
   ]
  },
  {
   "cell_type": "code",
   "execution_count": 8,
   "metadata": {},
   "outputs": [
    {
     "data": {
      "image/png": "[encoded data removed]",
      "text/plain": [
       "<Figure size 2160x432 with 3 Axes>"
      ]
     },
     "metadata": {
      "needs_background": "light"
     },
     "output_type": "display_data"
    }
   ],
   "source": [
    "datasets = full_dataset.get_sources()\n",
    "vertebrae = full_dataset.get_vertebrae()\n",
    "fractured = full_dataset.get_scores()\n",
    "\n",
    "ind_xvert = np.argwhere(datasets == 'xvertseg')\n",
    "ind_verse = np.argwhere(datasets == 'verse2019')\n",
    "ind_fractured = np.argwhere(fractured)\n",
    "\n",
    "# fractured counts\n",
    "_, counts_xvert_frac = np.unique(vertebrae[np.intersect1d(ind_xvert, ind_fractured)], return_counts=True)\n",
    "_, counts_verse_frac = np.unique(vertebrae[np.intersect1d(ind_verse, ind_fractured)], return_counts=True)\n",
    "_, counts_both_frac = np.unique(vertebrae[ind_fractured], return_counts=True)\n",
    "\n",
    "# all counts fractured counts\n",
    "labels_xvert, counts_xvert = np.unique(vertebrae[ind_xvert], return_counts=True)\n",
    "labels_verse, counts_verse = np.unique(vertebrae[ind_verse], return_counts=True)\n",
    "labels_both, counts_both = np.unique(vertebrae, return_counts=True)\n",
    "\n",
    "# hack but ok\n",
    "counts_verse_frac = np.append(counts_verse_frac, [0])\n",
    "counts_both_frac = np.append(counts_both_frac, [0])\n",
    "\n",
    "counts_xvert_non_frac = counts_xvert - counts_xvert_frac\n",
    "counts_verse_non_frac = counts_verse - counts_verse_frac\n",
    "counts_both_non_frac = counts_both - counts_both_frac\n",
    "\n",
    "plt.figure(figsize=(30, 6))\n",
    "plt.subplot(1, 3, 1)\n",
    "plt.bar(labels_xvert, counts_xvert_frac, align='center', label='Fractured')\n",
    "plt.bar(labels_xvert, counts_xvert_non_frac, align='center', label='Healthy', bottom=counts_xvert_frac)\n",
    "plt.title('Histogram: type of vertebrae in xVertSeg')\n",
    "plt.ylabel('Nr of occurences')\n",
    "plt.legend()\n",
    "plt.gca().set_xticks(labels_xvert)\n",
    "plt.gca().set_xticklabels(vert_names[-6:-1])\n",
    "plt.gca().set_ylim((0, 75))\n",
    "plt.subplot(1, 3, 2)\n",
    "plt.bar(labels_verse, counts_verse_frac, align='center', label='Fractured')\n",
    "plt.bar(labels_verse, counts_verse_non_frac, align='center', label='Healthy', bottom=counts_verse_frac)\n",
    "plt.title('Histogram: type of vertebrae in Verse2019')\n",
    "plt.ylabel('Nr of occurences')\n",
    "plt.legend()\n",
    "plt.gca().set_xticks(labels_both)\n",
    "plt.gca().set_xticklabels(vert_names)\n",
    "plt.gca().set_ylim((0, 75))\n",
    "plt.subplot(1, 3, 3)\n",
    "plt.bar(labels_both, counts_both_frac, align='center', label='Fractured')\n",
    "plt.bar(labels_both, counts_both_non_frac, align='center', label='Healthy', bottom=counts_both_frac)\n",
    "plt.title('Histogram: type of vertebrae in both')\n",
    "plt.ylabel('Nr of occurences')\n",
    "plt.legend()\n",
    "plt.gca().set_xticks(labels_both)\n",
    "plt.gca().set_xticklabels(vert_names)\n",
    "plt.gca().set_ylim((0, 75))\n",
    "plt.plot\n",
    "plt.show()"
   ]
  }
 ],
 "metadata": {
  "kernelspec": {
   "display_name": "Python 3",
   "language": "python",
   "name": "python3"
  },
  "language_info": {
   "codemirror_mode": {
    "name": "ipython",
    "version": 3
   },
   "file_extension": ".py",
   "mimetype": "text/x-python",
   "name": "python",
   "nbconvert_exporter": "python",
   "pygments_lexer": "ipython3",
   "version": "3.8.7"
  }
 },
 "nbformat": 4,
 "nbformat_minor": 4
}
