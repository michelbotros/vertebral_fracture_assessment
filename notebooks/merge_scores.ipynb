{
 "cells": [
  {
   "cell_type": "code",
   "execution_count": null,
   "metadata": {},
   "outputs": [],
   "source": [
    "import pandas as pd\n",
    "import os\n",
    "import numpy as np"
   ]
  },
  {
   "cell_type": "code",
   "execution_count": null,
   "metadata": {},
   "outputs": [],
   "source": [
    "xVertSeg = pd.read_excel('Z:experiments/vertebra_fracture_detection_t9560/datasets/xvertseg/scores.xlsx')\n",
    "verse2019 = pd.read_excel('Z:experiments/vertebra_fracture_detection_t9560/datasets/verse2019/scores.xlsx')"
   ]
  },
  {
   "cell_type": "markdown",
   "metadata": {},
   "source": [
    "## VerSe2019"
   ]
  },
  {
   "cell_type": "code",
   "execution_count": null,
   "metadata": {},
   "outputs": [],
   "source": [
    "# image ids of which we dont have masks supplied\n",
    "ids = verse2019[verse2019['dataset'] == 'validation public']['verse_ID']"
   ]
  },
  {
   "cell_type": "code",
   "execution_count": null,
   "metadata": {},
   "outputs": [],
   "source": [
    "# take the relevant rows 'training', add validation when you have the actual masks for them as well\n",
    "verse = verse2019.loc[verse2019['dataset'].isin(['training'])]\n",
    "\n",
    "# take the relevant columns\n",
    "col_ind = [0] + list(range(12, 48))\n",
    "verse = verse.iloc[:, col_ind]\n",
    "\n",
    "# sort them by id\n",
    "verse = verse.sort_values(by=['verse_ID'])\n",
    "\n",
    "\n",
    "display(verse[10:15])\n",
    "print(verse.columns)"
   ]
  },
  {
   "cell_type": "code",
   "execution_count": null,
   "metadata": {},
   "outputs": [],
   "source": [
    "# we rename the columns to something more clean\n",
    "columns_names = ['ID'] +['T{} grade'.format(i) for i in range(1, 13)] + ['L{} grade'.format(i) for i in range(1, 7)] + ['T{} case'.format(i) for i in range(1, 13)] + ['L{} case'.format(i) for i in range(1, 7)]          \n",
    "print(columns_names)\n",
    "print(len(columns_names))\n",
    "verse.columns = columns_names"
   ]
  },
  {
   "cell_type": "code",
   "execution_count": null,
   "metadata": {},
   "outputs": [],
   "source": [
    "# convert everthing to numeric (float) 'x' => NaN\n",
    "for col in verse.columns:\n",
    "    verse[col] = pd.to_numeric(verse[col], errors='coerce')"
   ]
  },
  {
   "cell_type": "code",
   "execution_count": null,
   "metadata": {},
   "outputs": [],
   "source": [
    "display(verse[0:5])"
   ]
  },
  {
   "cell_type": "code",
   "execution_count": null,
   "metadata": {},
   "outputs": [],
   "source": [
    "# rearange column order to\n",
    "T_columns = [list(a) for a in zip(['T{} grade'.format(i) for i in range(1, 13)], ['T{} case'.format(i) for i in range(1, 13)])]\n",
    "L_columns = [list(a) for a in zip(['L{} grade'.format(i) for i in range(1, 7)], ['L{} case'.format(i) for i in range(1, 13)])]\n",
    "new_order = ['ID'] + sum(T_columns, []) + sum(L_columns, [])\n",
    "print(new_order)\n",
    "print(len(new_order))"
   ]
  },
  {
   "cell_type": "code",
   "execution_count": null,
   "metadata": {},
   "outputs": [],
   "source": [
    "verse = verse[new_order]\n",
    "display(verse)"
   ]
  },
  {
   "cell_type": "code",
   "execution_count": null,
   "metadata": {},
   "outputs": [],
   "source": [
    "verse.insert(0, 'Dataset', 'verse2019')\n",
    "display(verse)"
   ]
  },
  {
   "cell_type": "code",
   "execution_count": null,
   "metadata": {},
   "outputs": [],
   "source": [
    "verse[60:80]"
   ]
  },
  {
   "cell_type": "code",
   "execution_count": null,
   "metadata": {},
   "outputs": [],
   "source": [
    "# save the results for the verse dataset\n",
    "verse.to_csv('Z:experiments/vertebra_fracture_detection_t9560/datasets/verse2019/scores.csv', header=True, index=False)"
   ]
  },
  {
   "cell_type": "markdown",
   "metadata": {},
   "source": [
    "## xVertSeg"
   ]
  },
  {
   "cell_type": "code",
   "execution_count": null,
   "metadata": {},
   "outputs": [],
   "source": [
    "display(xVertSeg)"
   ]
  },
  {
   "cell_type": "code",
   "execution_count": null,
   "metadata": {},
   "outputs": [],
   "source": [
    "# sort \n",
    "xVertSeg = xVertSeg.sort_values(by=['Spine image'])\n",
    "display(xVertSeg)"
   ]
  },
  {
   "cell_type": "code",
   "execution_count": null,
   "metadata": {},
   "outputs": [],
   "source": [
    "# remove some weird columns rename first column to ID\n",
    "xVertSeg = xVertSeg.drop(columns=['Unnamed: 11', 'Unnamed: 12', 'Unnamed: 13'])\n",
    "xVertSeg = xVertSeg.rename(columns={'Spine image': 'ID'})\n",
    "display(xVertSeg)"
   ]
  },
  {
   "cell_type": "code",
   "execution_count": null,
   "metadata": {},
   "outputs": [],
   "source": [
    "xVertSeg['ID'] = xVertSeg['ID'].str.replace('image', '', regex=True)\n",
    "display(xVertSeg)"
   ]
  },
  {
   "cell_type": "code",
   "execution_count": null,
   "metadata": {},
   "outputs": [],
   "source": [
    "# add columns for the rest of the vertebrae\n",
    "xVertSeg = xVertSeg.reindex(columns = columns_names)    \n",
    "display(xVertSeg)"
   ]
  },
  {
   "cell_type": "code",
   "execution_count": null,
   "metadata": {},
   "outputs": [],
   "source": [
    "xVertSeg = xVertSeg.astype('float')\n",
    "xVertSeg['ID'] = xVertSeg['ID'].astype('int')\n",
    "display(xVertSeg)"
   ]
  },
  {
   "cell_type": "code",
   "execution_count": null,
   "metadata": {},
   "outputs": [],
   "source": [
    "# rearrange columns\n",
    "xVertSeg = xVertSeg[new_order]\n",
    "display(xVertSeg)"
   ]
  },
  {
   "cell_type": "code",
   "execution_count": null,
   "metadata": {},
   "outputs": [],
   "source": [
    "# add dataset column\n",
    "xVertSeg.insert(0, 'Dataset', 'xvertseg')\n",
    "display(xVertSeg)"
   ]
  },
  {
   "cell_type": "code",
   "execution_count": null,
   "metadata": {},
   "outputs": [],
   "source": [
    "# checkkk\n",
    "print(xVertSeg.columns == verse.columns)"
   ]
  },
  {
   "cell_type": "code",
   "execution_count": null,
   "metadata": {},
   "outputs": [],
   "source": [
    "# save the results for the verse dataset\n",
    "xVertSeg.to_csv('Z:experiments/vertebra_fracture_detection_t9560/datasets/xvertseg/scores.csv', header=True, index=False)"
   ]
  }
 ],
 "metadata": {
  "kernelspec": {
   "display_name": "Python 3",
   "language": "python",
   "name": "python3"
  },
  "language_info": {
   "codemirror_mode": {
    "name": "ipython",
    "version": 3
   },
   "file_extension": ".py",
   "mimetype": "text/x-python",
   "name": "python",
   "nbconvert_exporter": "python",
   "pygments_lexer": "ipython3",
   "version": "3.7.3"
  }
 },
 "nbformat": 4,
 "nbformat_minor": 2
}
