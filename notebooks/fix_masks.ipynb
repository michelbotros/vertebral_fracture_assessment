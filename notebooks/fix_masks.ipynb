{
 "cells": [
  {
   "cell_type": "code",
   "execution_count": null,
   "metadata": {},
   "outputs": [],
   "source": [
    "from tiger.io import read_image, write_image\n",
    "from tiger.resampling import pad_or_crop_image\n",
    "import numpy as np\n",
    "import os\n",
    "import SimpleITK as sitk"
   ]
  },
  {
   "cell_type": "code",
   "execution_count": null,
   "metadata": {},
   "outputs": [],
   "source": [
    "img_dir = '/mnt/netcache/bodyct/experiments/vertebra_fracture_detection_t9560/datasets/verse2019/input_extra_masks'\n",
    "msk_dir = '/mnt/netcache/bodyct/experiments/vertebra_fracture_detection_t9560/datasets/verse2019/output_extra_masks/vertebra_masks'\n",
    "out_dir = '/mnt/netcache/bodyct/experiments/vertebra_fracture_detection_t9560/datasets/verse2019/fixed_extra_masks/'\n",
    "img_paths = [os.path.join(img_dir, file) for file in sorted(os.listdir(img_dir))]\n",
    "msk_paths = [os.path.join(msk_dir, file) for file in sorted(os.listdir(msk_dir)) if 'mha' in file]\n",
    "out_paths = [os.path.join(out_dir, file) for file in sorted(os.listdir(out_dir)) if 'mha' in file]"
   ]
  },
  {
   "cell_type": "code",
   "execution_count": null,
   "metadata": {},
   "outputs": [],
   "source": [
    "for img_path, msk_path in zip(img_paths, msk_paths):\n",
    "    # read the image and the predicted mask\n",
    "    img, header_img = read_image(img_path)\n",
    "    msk, header_msk = read_image(msk_path)\n",
    "    file_name = img_path.split('/')[-1]\n",
    "\n",
    "    # if the shape are not the same, we will crop the mask to the target shape (shape of the orignal image)\n",
    "    if not(img.shape == msk.shape):\n",
    "        fixed_msk = pad_or_crop_image(msk, img.shape)\n",
    "        assert(img.shape == fixed_msk.shape)\n",
    "        print(\"{}: {}\".format(file_name, fixed_msk.shape))\n",
    "        write_image(os.path.join(out_dir, file_name), fixed_msk, header_img)\n",
    "    else:\n",
    "        write_image(os.path.join(out_dir, file_name), msk, header_msk)"
   ]
  },
  {
   "cell_type": "code",
   "execution_count": null,
   "metadata": {},
   "outputs": [],
   "source": [
    "# check\n",
    "for img_path, fixed_img_path in zip(img_paths, out_paths):\n",
    "    img, header_img = read_image(img_path)\n",
    "    msk, header_msk = read_image(fixed_img_path)\n",
    "    file_name = img_path.split('/')[-1]\n",
    "    print(file_name)\n",
    "    assert(img.shape == msk.shape), '{} {} {}'.format(file_name, img.shape, msk.shape)"
   ]
  }
 ],
 "metadata": {
  "kernelspec": {
   "display_name": "Python 3",
   "language": "python",
   "name": "python3"
  },
  "language_info": {
   "codemirror_mode": {
    "name": "ipython",
    "version": 3
   },
   "file_extension": ".py",
   "mimetype": "text/x-python",
   "name": "python",
   "nbconvert_exporter": "python",
   "pygments_lexer": "ipython3",
   "version": "3.8.7"
  }
 },
 "nbformat": 4,
 "nbformat_minor": 4
}
