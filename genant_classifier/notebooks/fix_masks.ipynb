{
 "cells": [
  {
   "cell_type": "code",
   "execution_count": null,
   "metadata": {},
   "outputs": [],
   "source": [
    "from tiger.io import read_image, write_image\n",
    "from tiger.resampling import pad_or_crop_image, resample_mask_itk, change_direction\n",
    "import numpy as np\n",
    "import os\n",
    "import SimpleITK as sitk\n",
    "import matplotlib.pyplot as plt"
   ]
  },
  {
   "cell_type": "markdown",
   "metadata": {},
   "source": [
    "## Using vertebra-segmentation:verse2019processor "
   ]
  },
  {
   "cell_type": "code",
   "execution_count": null,
   "metadata": {},
   "outputs": [],
   "source": [
    "img_dir_mha = '/mnt/netcache/bodyct/experiments/vertebra_fracture_detection_t9560/datasets/verse2019/input_extra_masks/mha/'\n",
    "img_dir_nifti = '/mnt/netcache/bodyct/experiments/vertebra_fracture_detection_t9560/datasets/verse2019/input_extra_masks/nifti/'\n",
    "img_paths_mha = [os.path.join(img_dir_mha, file) for file in sorted(os.listdir(img_dir_mha))]\n",
    "\n",
    "msk_dir_mha = '/mnt/netcache/bodyct/experiments/vertebra_fracture_detection_t9560/datasets/verse2019/verse2019processor_masks/mha/'\n",
    "msk_dir_nifti = '/mnt/netcache/bodyct/experiments/vertebra_fracture_detection_t9560/datasets/verse2019/verse2019processor_masks/nifti/'\n",
    "msks_paths_nifti = [os.path.join(msk_dir_nifti, file) for file in sorted(os.listdir(msk_dir_nifti)) if 'nii' in file]\n",
    "msks_paths_mha = [os.path.join(msk_dir_mha, file) for file in sorted(os.listdir(msk_dir_mha))]"
   ]
  },
  {
   "cell_type": "code",
   "execution_count": null,
   "metadata": {},
   "outputs": [],
   "source": [
    "# read all mha files and transform to nifti\n",
    "# for img_path_mha in img_paths_mha:\n",
    "#     verse_id = img_path_mha.split('/')[-1].split('.')[0]\n",
    "#     img, header_img = read_image(img_path_mha)\n",
    "#     out_file = os.path.join(img_dir_nifti, verse_id) + '.nii.gz'\n",
    "#     print(out_file)\n",
    "#     write_image(out_file, img, header_img)"
   ]
  },
  {
   "cell_type": "code",
   "execution_count": null,
   "metadata": {},
   "outputs": [],
   "source": [
    "# read the nifti files and convert back to mha\n",
    "for mask_path in msks_paths_nifti:\n",
    "    verse_id = mask_path.split('/')[-1].split('.')[0].split('_')[0]\n",
    "    msk, header_msk = read_image(mask_path)\n",
    "    out_file = os.path.join(msk_dir_mha, verse_id) + '.mha'\n",
    "    print(out_file)\n",
    "    write_image(out_file, msk, header_msk)"
   ]
  },
  {
   "cell_type": "markdown",
   "metadata": {},
   "source": [
    "## Lets check the masks!"
   ]
  },
  {
   "cell_type": "code",
   "execution_count": null,
   "metadata": {},
   "outputs": [],
   "source": [
    "for i, (img_path, msk_path) in enumerate(zip(img_paths_mha, msks_paths_mha)):\n",
    "    # read the image and the predicted mask\n",
    "    img, header_img = read_image(img_path)\n",
    "    msk, header_msk = read_image(msk_path)\n",
    "    file_name = img_path.split('/')[-1]\n",
    "    \n",
    "    # filter out non C vertebrae, otherwise the vertebrae get the same color\n",
    "    msk = np.where(msk < 26, msk, 0)\n",
    "    plt_msk = np.ma.masked_where(msk == 0, msk)\n",
    "    \n",
    "    # mid slice of the image\n",
    "    mid_slice = img.shape[0] // 2 \n",
    "\n",
    "    plt.figure(figsize=(15, 30))\n",
    "    plt.imshow(img[mid_slice, :, :], cmap='gray')\n",
    "    plt.imshow(plt_msk[mid_slice, :, :], alpha=0.25)\n",
    "    plt.title(file_name)\n",
    "    plt.show()"
   ]
  },
  {
   "cell_type": "markdown",
   "metadata": {},
   "source": [
    "## Corrections need to be applied:\n",
    "Corrections:\n",
    "* Case: 2\n",
    "  'The vertebra with label T2 is actually T1'\n",
    "* Case 7\n",
    "  'This is the case with an L6 vertebra. L5 is actually L6, T12 is actually L1'\n",
    "* Case: 14 \n",
    "  'Segmentation error, person probably has 6 lumbar vertebrae but L6 and L5 are both labeled as \"L4\" (brown)'\n",
    "* Case: 29\n",
    "  'C1 is not segmented and C2 is labeled as C1, etc'\n",
    "* Case: 31\n",
    "  'Segmentation of C1 is missing, labeling is overall correct but T3 and T4 are both labeled as T3'\n",
    "* Case: 33\n",
    "  'C1 is missing, T3 and T4 are both labeled as T3'\n",
    "* Case: 35\n",
    "  'The vertebra labeled as T2 is actually T1. This person seems to have only 4 lumbar vertebrae.'"
   ]
  },
  {
   "cell_type": "code",
   "execution_count": null,
   "metadata": {},
   "outputs": [],
   "source": [
    "msk_path = [f for f in msks_paths_mha if '011' in f][0]\n",
    "\n",
    "msk, header_msk = read_image(msk_path)\n",
    "out_file = os.path.join(msk_dir_mha, 'corrected_' + msk_path.split('/')[-1])\n",
    "print(out_file)\n",
    "msk = np.where(msk > 0, msk - 1, 0)\n",
    "write_image(out_file, msk, header_msk)"
   ]
  }
 ],
 "metadata": {
  "kernelspec": {
   "display_name": "Python 3",
   "language": "python",
   "name": "python3"
  },
  "language_info": {
   "codemirror_mode": {
    "name": "ipython",
    "version": 3
   },
   "file_extension": ".py",
   "mimetype": "text/x-python",
   "name": "python",
   "nbconvert_exporter": "python",
   "pygments_lexer": "ipython3",
   "version": "3.8.7"
  }
 },
 "nbformat": 4,
 "nbformat_minor": 4
}
