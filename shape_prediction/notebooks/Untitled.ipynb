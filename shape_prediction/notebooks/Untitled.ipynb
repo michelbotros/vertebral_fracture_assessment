{
 "cells": [
  {
   "cell_type": "code",
   "execution_count": 10,
   "id": "curious-birmingham",
   "metadata": {},
   "outputs": [],
   "source": [
    "import sys\n",
    "import os\n",
    "import matplotlib.pyplot as plt\n",
    "import numpy as np\n",
    "sys.path.append('..')\n",
    "from load_data import load_data\n",
    "from config import *"
   ]
  },
  {
   "cell_type": "code",
   "execution_count": 56,
   "id": "diagnostic-audit",
   "metadata": {},
   "outputs": [
    {
     "name": "stdout",
     "output_type": "stream",
     "text": [
      "Loading images from /mnt/netcache/bodyct/experiments/vertebra_fracture_detection_t9560/datasets/nlst/images...\n"
     ]
    },
    {
     "data": {
      "application/vnd.jupyter.widget-view+json": {
       "model_id": "1f415339681d44ba9da0c0e31a72d05b",
       "version_major": 2,
       "version_minor": 0
      },
      "text/plain": [
       "  0%|          | 0/25 [00:00<?, ?it/s]"
      ]
     },
     "metadata": {},
     "output_type": "display_data"
    },
    {
     "name": "stdout",
     "output_type": "stream",
     "text": [
      "Loading masks from /mnt/netcache/bodyct/experiments/vertebra_fracture_detection_t9560/datasets/nlst/masks...\n"
     ]
    },
    {
     "data": {
      "application/vnd.jupyter.widget-view+json": {
       "model_id": "314e78fa599c4649b0189cb10d7b3fc0",
       "version_major": 2,
       "version_minor": 0
      },
      "text/plain": [
       "  0%|          | 0/25 [00:00<?, ?it/s]"
      ]
     },
     "metadata": {},
     "output_type": "display_data"
    }
   ],
   "source": [
    "imgs, msks = load_data(nlst_dir, cases=25)"
   ]
  },
  {
   "cell_type": "code",
   "execution_count": 60,
   "id": "fixed-negative",
   "metadata": {},
   "outputs": [],
   "source": [
    "def bbox_3D(img, msk):\n",
    "\n",
    "    x = np.any(msk, axis=(0, 1))\n",
    "    y = np.any(msk, axis=(0, 2))\n",
    "    z = np.any(msk, axis=(1, 2))\n",
    "\n",
    "    xmin, xmax = np.where(x)[0][[0, -1]]\n",
    "    ymin, ymax = np.where(y)[0][[0, -1]]\n",
    "    zmin, zmax = np.where(z)[0][[0, -1]]\n",
    "\n",
    "    return img[zmin:zmax, ymin:ymax, xmin:xmax], msk[zmin:zmax, ymin:ymax, xmin:xmax]"
   ]
  },
  {
   "cell_type": "code",
   "execution_count": 70,
   "id": "catholic-bones",
   "metadata": {},
   "outputs": [],
   "source": [
    "spine_imgs = []\n",
    "spine_msks = []\n",
    "\n",
    "for img, msk in zip(imgs, msks):\n",
    "    spine_img, spine_msk = bbox_3D(img, msk)\n",
    "    spine_imgs.append(spine_img)\n",
    "    spine_msks.append(spine_msk)"
   ]
  },
  {
   "cell_type": "code",
   "execution_count": 72,
   "id": "fundamental-johnston",
   "metadata": {},
   "outputs": [
    {
     "name": "stdout",
     "output_type": "stream",
     "text": [
      "(80, 337, 118)\n",
      "(80, 299, 109)\n",
      "(92, 294, 110)\n",
      "(87, 305, 124)\n",
      "(85, 307, 117)\n",
      "(91, 303, 105)\n",
      "(104, 329, 121)\n",
      "(102, 338, 116)\n",
      "(97, 415, 111)\n",
      "(97, 345, 100)\n",
      "(84, 261, 124)\n",
      "(79, 244, 122)\n",
      "(87, 301, 100)\n",
      "(86, 316, 105)\n",
      "(93, 357, 111)\n",
      "(95, 313, 115)\n",
      "(76, 261, 132)\n",
      "(88, 275, 88)\n",
      "(85, 297, 105)\n",
      "(86, 349, 98)\n",
      "(88, 301, 97)\n",
      "(97, 337, 129)\n",
      "(76, 294, 97)\n",
      "(102, 382, 133)\n",
      "(76, 299, 102)\n"
     ]
    }
   ],
   "source": [
    "for img, msk in zip(spine_imgs, spine_msks):\n",
    "    print(img.shape)\n",
    "#     plt.figure(figsize=(10, 8))\n",
    "    \n",
    "#     mid_slice = img.shape[0] // 2\n",
    "#     plt_msk = np.ma.masked_where(msk == np.min(msk), msk)    \n",
    "#     plt.subplot(121)\n",
    "#     plt.imshow(img[mid_slice, :, :], cmap='gray')\n",
    "#     plt.imshow(plt_msk[mid_slice, :, :], alpha=0.15)"
   ]
  },
  {
   "cell_type": "code",
   "execution_count": null,
   "id": "following-sensitivity",
   "metadata": {},
   "outputs": [],
   "source": []
  },
  {
   "cell_type": "code",
   "execution_count": null,
   "id": "innocent-patrick",
   "metadata": {},
   "outputs": [],
   "source": []
  }
 ],
 "metadata": {
  "kernelspec": {
   "display_name": "Python 3",
   "language": "python",
   "name": "python3"
  },
  "language_info": {
   "codemirror_mode": {
    "name": "ipython",
    "version": 3
   },
   "file_extension": ".py",
   "mimetype": "text/x-python",
   "name": "python",
   "nbconvert_exporter": "python",
   "pygments_lexer": "ipython3",
   "version": "3.8.7"
  }
 },
 "nbformat": 4,
 "nbformat_minor": 5
}
